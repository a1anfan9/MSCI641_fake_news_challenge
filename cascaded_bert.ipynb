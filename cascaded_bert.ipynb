{
 "cells": [
  {
   "cell_type": "code",
   "execution_count": 1,
   "metadata": {},
   "outputs": [
    {
     "name": "stderr",
     "output_type": "stream",
     "text": [
      "c:\\ProgramData\\Anaconda3\\envs\\keras\\lib\\site-packages\\scipy\\__init__.py:146: UserWarning: A NumPy version >=1.16.5 and <1.23.0 is required for this version of SciPy (detected version 1.23.1\n",
      "  warnings.warn(f\"A NumPy version >={np_minversion} and <{np_maxversion}\"\n"
     ]
    }
   ],
   "source": [
    "import numpy as np\n",
    "import copy\n",
    "from tqdm import tqdm\n",
    "import pandas as pd\n",
    "import re\n",
    "import gensim\n",
    "from score import report_score\n",
    "from sklearn.metrics import accuracy_score\n",
    "import copy"
   ]
  },
  {
   "cell_type": "code",
   "execution_count": 2,
   "metadata": {},
   "outputs": [],
   "source": [
    "datadir=\"fnc-1\"\n",
    "manual_seed=47\n",
    "num_train_epochs=3"
   ]
  },
  {
   "cell_type": "code",
   "execution_count": 3,
   "metadata": {},
   "outputs": [],
   "source": [
    "raw_train_bodies = pd.read_csv(datadir + '/train_bodies.csv')   \n",
    "raw_train_stances = pd.read_csv(datadir + '/train_stances.csv')\n",
    "raw_test_bodies = pd.read_csv(datadir + '/competition_test_bodies.csv') \n",
    "raw_test_stances = pd.read_csv(datadir + '/competition_test_stances.csv')\n",
    "\n",
    "true_test = raw_test_stances['Stance']"
   ]
  },
  {
   "cell_type": "code",
   "execution_count": 4,
   "metadata": {},
   "outputs": [],
   "source": [
    "stance_to_int = {\"agree\":0, \"discuss\": 1, \"disagree\": 2, \"unrelated\": 3}\n",
    "int_to_stance = {0:\"agree\", 1:\"discuss\", 2:\"disagree\", 3: \"unrelated\"}"
   ]
  },
  {
   "cell_type": "code",
   "execution_count": 5,
   "metadata": {},
   "outputs": [
    {
     "data": {
      "text/plain": [
       "0        unrelated\n",
       "1        unrelated\n",
       "2        unrelated\n",
       "3        unrelated\n",
       "4        unrelated\n",
       "           ...    \n",
       "25408        agree\n",
       "25409      discuss\n",
       "25410     disagree\n",
       "25411     disagree\n",
       "25412        agree\n",
       "Name: Stance, Length: 25413, dtype: object"
      ]
     },
     "execution_count": 5,
     "metadata": {},
     "output_type": "execute_result"
    }
   ],
   "source": [
    "true_test"
   ]
  },
  {
   "cell_type": "code",
   "execution_count": 6,
   "metadata": {},
   "outputs": [],
   "source": [
    "actual_test_stances = raw_test_stances['Stance']\n",
    "raw_train_stances['Stance'] = raw_train_stances['Stance'].apply(lambda x: stance_to_int[x])\n",
    "raw_test_stances['Stance'] = raw_test_stances['Stance'].apply(lambda x: stance_to_int[x])\n",
    "true_test_labels = true_test.apply(lambda x: stance_to_int[x])"
   ]
  },
  {
   "cell_type": "code",
   "execution_count": 7,
   "metadata": {},
   "outputs": [],
   "source": [
    "train_df = raw_train_stances.join(raw_train_bodies.set_index('Body ID'), on='Body ID')\n",
    "test_df = raw_test_stances.join(raw_test_bodies.set_index('Body ID'), on='Body ID')\n",
    "\n",
    "train_df['labels'] = train_df['Stance']\n",
    "\n",
    "train_df = train_df.drop(['Body ID','Stance'], axis=1)\n",
    "test_df = test_df.drop(['Body ID','Stance'], axis=1)"
   ]
  },
  {
   "cell_type": "code",
   "execution_count": 8,
   "metadata": {},
   "outputs": [],
   "source": [
    "def clean(s):\n",
    "    # Cleans a string: Lowercasing, trimming, removing non-alphanumeric\n",
    "    return \" \".join(re.findall(r'\\w+', s, flags=re.UNICODE)).lower()\n",
    "\n",
    "train_df['Headline'] = train_df['Headline'].apply(clean)\n",
    "train_df['articleBody'] = train_df['articleBody'].apply(clean)\n",
    "\n",
    "test_df['Headline'] = test_df['Headline'].apply(clean)\n",
    "test_df['articleBody'] = test_df['articleBody'].apply(clean)"
   ]
  },
  {
   "cell_type": "code",
   "execution_count": 9,
   "metadata": {},
   "outputs": [],
   "source": [
    "train_df=train_df.rename(columns={'Headline': 'text_a', 'articleBody': 'text_b'})\n",
    "test_df=test_df.rename(columns={'Headline': 'text_a', 'articleBody': 'text_b'})"
   ]
  },
  {
   "cell_type": "code",
   "execution_count": 10,
   "metadata": {},
   "outputs": [
    {
     "data": {
      "text/html": [
       "<div>\n",
       "<style scoped>\n",
       "    .dataframe tbody tr th:only-of-type {\n",
       "        vertical-align: middle;\n",
       "    }\n",
       "\n",
       "    .dataframe tbody tr th {\n",
       "        vertical-align: top;\n",
       "    }\n",
       "\n",
       "    .dataframe thead th {\n",
       "        text-align: right;\n",
       "    }\n",
       "</style>\n",
       "<table border=\"1\" class=\"dataframe\">\n",
       "  <thead>\n",
       "    <tr style=\"text-align: right;\">\n",
       "      <th></th>\n",
       "      <th>text_a</th>\n",
       "      <th>text_b</th>\n",
       "      <th>labels</th>\n",
       "    </tr>\n",
       "  </thead>\n",
       "  <tbody>\n",
       "    <tr>\n",
       "      <th>0</th>\n",
       "      <td>police find mass graves with at least 15 bodie...</td>\n",
       "      <td>danny boyle is directing the untitled film set...</td>\n",
       "      <td>3</td>\n",
       "    </tr>\n",
       "    <tr>\n",
       "      <th>1</th>\n",
       "      <td>hundreds of palestinians flee floods in gaza a...</td>\n",
       "      <td>hundreds of palestinians were evacuated from t...</td>\n",
       "      <td>0</td>\n",
       "    </tr>\n",
       "    <tr>\n",
       "      <th>2</th>\n",
       "      <td>christian bale passes on role of steve jobs ac...</td>\n",
       "      <td>30 year old moscow resident was hospitalized w...</td>\n",
       "      <td>3</td>\n",
       "    </tr>\n",
       "    <tr>\n",
       "      <th>3</th>\n",
       "      <td>hbo and apple in talks for 15 month apple tv s...</td>\n",
       "      <td>reuters a canadian soldier was shot at the can...</td>\n",
       "      <td>3</td>\n",
       "    </tr>\n",
       "    <tr>\n",
       "      <th>4</th>\n",
       "      <td>spider burrowed through tourist s stomach and ...</td>\n",
       "      <td>fear not arachnophobes the story of bunbury s ...</td>\n",
       "      <td>2</td>\n",
       "    </tr>\n",
       "  </tbody>\n",
       "</table>\n",
       "</div>"
      ],
      "text/plain": [
       "                                              text_a  \\\n",
       "0  police find mass graves with at least 15 bodie...   \n",
       "1  hundreds of palestinians flee floods in gaza a...   \n",
       "2  christian bale passes on role of steve jobs ac...   \n",
       "3  hbo and apple in talks for 15 month apple tv s...   \n",
       "4  spider burrowed through tourist s stomach and ...   \n",
       "\n",
       "                                              text_b  labels  \n",
       "0  danny boyle is directing the untitled film set...       3  \n",
       "1  hundreds of palestinians were evacuated from t...       0  \n",
       "2  30 year old moscow resident was hospitalized w...       3  \n",
       "3  reuters a canadian soldier was shot at the can...       3  \n",
       "4  fear not arachnophobes the story of bunbury s ...       2  "
      ]
     },
     "execution_count": 10,
     "metadata": {},
     "output_type": "execute_result"
    }
   ],
   "source": [
    "train_df.head()"
   ]
  },
  {
   "cell_type": "code",
   "execution_count": 11,
   "metadata": {},
   "outputs": [],
   "source": [
    "test_dl=[]\n",
    "for i in range(len(test_df)):\n",
    "  test_dl.append([test_df['text_a'][i], test_df['text_b'][i]])"
   ]
  },
  {
   "cell_type": "markdown",
   "metadata": {},
   "source": [
    "### Create dataset for Relateness\n",
    "all 'agree', 'disagree' and 'discuss' are mapped to releatedness.\n",
    "Releated is represented as 0 and unreleated is represented as 1."
   ]
  },
  {
   "cell_type": "code",
   "execution_count": 12,
   "metadata": {},
   "outputs": [],
   "source": [
    "#stance_to_int = {\"agree\":0, \"discuss\": 1, \"disagree\": 2, \"unrelated\": 3}\n",
    "stance_to_relatedness = {0:0 , 1:0, 2:0, 3:1}"
   ]
  },
  {
   "cell_type": "code",
   "execution_count": 13,
   "metadata": {},
   "outputs": [
    {
     "data": {
      "text/html": [
       "<div>\n",
       "<style scoped>\n",
       "    .dataframe tbody tr th:only-of-type {\n",
       "        vertical-align: middle;\n",
       "    }\n",
       "\n",
       "    .dataframe tbody tr th {\n",
       "        vertical-align: top;\n",
       "    }\n",
       "\n",
       "    .dataframe thead th {\n",
       "        text-align: right;\n",
       "    }\n",
       "</style>\n",
       "<table border=\"1\" class=\"dataframe\">\n",
       "  <thead>\n",
       "    <tr style=\"text-align: right;\">\n",
       "      <th></th>\n",
       "      <th>text_a</th>\n",
       "      <th>text_b</th>\n",
       "      <th>labels</th>\n",
       "    </tr>\n",
       "  </thead>\n",
       "  <tbody>\n",
       "    <tr>\n",
       "      <th>0</th>\n",
       "      <td>police find mass graves with at least 15 bodie...</td>\n",
       "      <td>danny boyle is directing the untitled film set...</td>\n",
       "      <td>1</td>\n",
       "    </tr>\n",
       "    <tr>\n",
       "      <th>1</th>\n",
       "      <td>hundreds of palestinians flee floods in gaza a...</td>\n",
       "      <td>hundreds of palestinians were evacuated from t...</td>\n",
       "      <td>0</td>\n",
       "    </tr>\n",
       "    <tr>\n",
       "      <th>2</th>\n",
       "      <td>christian bale passes on role of steve jobs ac...</td>\n",
       "      <td>30 year old moscow resident was hospitalized w...</td>\n",
       "      <td>1</td>\n",
       "    </tr>\n",
       "    <tr>\n",
       "      <th>3</th>\n",
       "      <td>hbo and apple in talks for 15 month apple tv s...</td>\n",
       "      <td>reuters a canadian soldier was shot at the can...</td>\n",
       "      <td>1</td>\n",
       "    </tr>\n",
       "    <tr>\n",
       "      <th>4</th>\n",
       "      <td>spider burrowed through tourist s stomach and ...</td>\n",
       "      <td>fear not arachnophobes the story of bunbury s ...</td>\n",
       "      <td>0</td>\n",
       "    </tr>\n",
       "  </tbody>\n",
       "</table>\n",
       "</div>"
      ],
      "text/plain": [
       "                                              text_a  \\\n",
       "0  police find mass graves with at least 15 bodie...   \n",
       "1  hundreds of palestinians flee floods in gaza a...   \n",
       "2  christian bale passes on role of steve jobs ac...   \n",
       "3  hbo and apple in talks for 15 month apple tv s...   \n",
       "4  spider burrowed through tourist s stomach and ...   \n",
       "\n",
       "                                              text_b  labels  \n",
       "0  danny boyle is directing the untitled film set...       1  \n",
       "1  hundreds of palestinians were evacuated from t...       0  \n",
       "2  30 year old moscow resident was hospitalized w...       1  \n",
       "3  reuters a canadian soldier was shot at the can...       1  \n",
       "4  fear not arachnophobes the story of bunbury s ...       0  "
      ]
     },
     "execution_count": 13,
     "metadata": {},
     "output_type": "execute_result"
    }
   ],
   "source": [
    "train_df_relatedness = train_df.copy()\n",
    "train_df_relatedness['labels'] = train_df_relatedness['labels'].apply(lambda x: stance_to_relatedness[x])\n",
    "train_df_relatedness.head()\n"
   ]
  },
  {
   "cell_type": "code",
   "execution_count": 14,
   "metadata": {},
   "outputs": [
    {
     "data": {
      "text/plain": [
       "0    1\n",
       "1    1\n",
       "2    1\n",
       "3    1\n",
       "4    1\n",
       "Name: Stance, dtype: int64"
      ]
     },
     "execution_count": 14,
     "metadata": {},
     "output_type": "execute_result"
    }
   ],
   "source": [
    "true_test_relatedness_labels = true_test_labels.apply(lambda x: stance_to_relatedness[x])\n",
    "true_test_relatedness_labels.head()"
   ]
  },
  {
   "cell_type": "markdown",
   "metadata": {},
   "source": [
    "### Create dataset for Opinion\n",
    "drop all rows that are unreleated."
   ]
  },
  {
   "cell_type": "code",
   "execution_count": 15,
   "metadata": {},
   "outputs": [
    {
     "name": "stdout",
     "output_type": "stream",
     "text": [
      "<class 'pandas.core.frame.DataFrame'>\n",
      "Int64Index: 13427 entries, 1 to 49970\n",
      "Data columns (total 3 columns):\n",
      " #   Column  Non-Null Count  Dtype \n",
      "---  ------  --------------  ----- \n",
      " 0   text_a  13427 non-null  object\n",
      " 1   text_b  13427 non-null  object\n",
      " 2   labels  13427 non-null  int64 \n",
      "dtypes: int64(1), object(2)\n",
      "memory usage: 419.6+ KB\n"
     ]
    },
    {
     "data": {
      "text/html": [
       "<div>\n",
       "<style scoped>\n",
       "    .dataframe tbody tr th:only-of-type {\n",
       "        vertical-align: middle;\n",
       "    }\n",
       "\n",
       "    .dataframe tbody tr th {\n",
       "        vertical-align: top;\n",
       "    }\n",
       "\n",
       "    .dataframe thead th {\n",
       "        text-align: right;\n",
       "    }\n",
       "</style>\n",
       "<table border=\"1\" class=\"dataframe\">\n",
       "  <thead>\n",
       "    <tr style=\"text-align: right;\">\n",
       "      <th></th>\n",
       "      <th>text_a</th>\n",
       "      <th>text_b</th>\n",
       "      <th>labels</th>\n",
       "    </tr>\n",
       "  </thead>\n",
       "  <tbody>\n",
       "    <tr>\n",
       "      <th>1</th>\n",
       "      <td>hundreds of palestinians flee floods in gaza a...</td>\n",
       "      <td>hundreds of palestinians were evacuated from t...</td>\n",
       "      <td>0</td>\n",
       "    </tr>\n",
       "    <tr>\n",
       "      <th>4</th>\n",
       "      <td>spider burrowed through tourist s stomach and ...</td>\n",
       "      <td>fear not arachnophobes the story of bunbury s ...</td>\n",
       "      <td>2</td>\n",
       "    </tr>\n",
       "    <tr>\n",
       "      <th>5</th>\n",
       "      <td>nasa confirms earth will experience 6 days of ...</td>\n",
       "      <td>thousands of people have been duped by a fake ...</td>\n",
       "      <td>0</td>\n",
       "    </tr>\n",
       "    <tr>\n",
       "      <th>8</th>\n",
       "      <td>banksy arrested real identity revealed is the ...</td>\n",
       "      <td>if you ve seen a story floating around on your...</td>\n",
       "      <td>0</td>\n",
       "    </tr>\n",
       "    <tr>\n",
       "      <th>10</th>\n",
       "      <td>gateway pundit</td>\n",
       "      <td>a british rapper whose father is awaiting tria...</td>\n",
       "      <td>1</td>\n",
       "    </tr>\n",
       "    <tr>\n",
       "      <th>...</th>\n",
       "      <td>...</td>\n",
       "      <td>...</td>\n",
       "      <td>...</td>\n",
       "    </tr>\n",
       "    <tr>\n",
       "      <th>49946</th>\n",
       "      <td>boko haram denies truce to release kidnapped s...</td>\n",
       "      <td>cnn despite government claims of a ceasefire g...</td>\n",
       "      <td>1</td>\n",
       "    </tr>\n",
       "    <tr>\n",
       "      <th>49949</th>\n",
       "      <td>has north korean dictator kim jong un been rep...</td>\n",
       "      <td>the north korean dictator kim jong un has not ...</td>\n",
       "      <td>1</td>\n",
       "    </tr>\n",
       "    <tr>\n",
       "      <th>49956</th>\n",
       "      <td>nypd to stop arresting for low level marijuana...</td>\n",
       "      <td>small time drug offenders in new york city cou...</td>\n",
       "      <td>1</td>\n",
       "    </tr>\n",
       "    <tr>\n",
       "      <th>49969</th>\n",
       "      <td>mexico says missing students not found in firs...</td>\n",
       "      <td>the bodies found in a mass grave were confirme...</td>\n",
       "      <td>0</td>\n",
       "    </tr>\n",
       "    <tr>\n",
       "      <th>49970</th>\n",
       "      <td>us lawmaker ten isis fighters have been appreh...</td>\n",
       "      <td>rep duncan hunter r ca told greta van susteren...</td>\n",
       "      <td>1</td>\n",
       "    </tr>\n",
       "  </tbody>\n",
       "</table>\n",
       "<p>13427 rows × 3 columns</p>\n",
       "</div>"
      ],
      "text/plain": [
       "                                                  text_a  \\\n",
       "1      hundreds of palestinians flee floods in gaza a...   \n",
       "4      spider burrowed through tourist s stomach and ...   \n",
       "5      nasa confirms earth will experience 6 days of ...   \n",
       "8      banksy arrested real identity revealed is the ...   \n",
       "10                                        gateway pundit   \n",
       "...                                                  ...   \n",
       "49946  boko haram denies truce to release kidnapped s...   \n",
       "49949  has north korean dictator kim jong un been rep...   \n",
       "49956  nypd to stop arresting for low level marijuana...   \n",
       "49969  mexico says missing students not found in firs...   \n",
       "49970  us lawmaker ten isis fighters have been appreh...   \n",
       "\n",
       "                                                  text_b  labels  \n",
       "1      hundreds of palestinians were evacuated from t...       0  \n",
       "4      fear not arachnophobes the story of bunbury s ...       2  \n",
       "5      thousands of people have been duped by a fake ...       0  \n",
       "8      if you ve seen a story floating around on your...       0  \n",
       "10     a british rapper whose father is awaiting tria...       1  \n",
       "...                                                  ...     ...  \n",
       "49946  cnn despite government claims of a ceasefire g...       1  \n",
       "49949  the north korean dictator kim jong un has not ...       1  \n",
       "49956  small time drug offenders in new york city cou...       1  \n",
       "49969  the bodies found in a mass grave were confirme...       0  \n",
       "49970  rep duncan hunter r ca told greta van susteren...       1  \n",
       "\n",
       "[13427 rows x 3 columns]"
      ]
     },
     "execution_count": 15,
     "metadata": {},
     "output_type": "execute_result"
    }
   ],
   "source": [
    "train_df_opinion = train_df.copy()\n",
    "drop_indexs = train_df_opinion[train_df_opinion.labels==3].index\n",
    "train_df_opinion = train_df_opinion.drop(drop_indexs)\n",
    "train_df_opinion.info()\n",
    "train_df_opinion"
   ]
  },
  {
   "cell_type": "code",
   "execution_count": 16,
   "metadata": {},
   "outputs": [],
   "source": [
    "true_test_opinion_df = test_df.copy()\n",
    "true_test_labels_opinion = true_test_labels.copy()\n",
    "drop_indexs = true_test_labels_opinion[true_test_labels_opinion==3].index\n",
    "\n",
    "true_test_opinion_df = true_test_opinion_df.drop(drop_indexs).reset_index(drop=True)\n",
    "true_test_opinion_labels = true_test_labels_opinion.drop(drop_indexs).reset_index(drop=True)"
   ]
  },
  {
   "cell_type": "code",
   "execution_count": 17,
   "metadata": {},
   "outputs": [
    {
     "data": {
      "text/html": [
       "<div>\n",
       "<style scoped>\n",
       "    .dataframe tbody tr th:only-of-type {\n",
       "        vertical-align: middle;\n",
       "    }\n",
       "\n",
       "    .dataframe tbody tr th {\n",
       "        vertical-align: top;\n",
       "    }\n",
       "\n",
       "    .dataframe thead th {\n",
       "        text-align: right;\n",
       "    }\n",
       "</style>\n",
       "<table border=\"1\" class=\"dataframe\">\n",
       "  <thead>\n",
       "    <tr style=\"text-align: right;\">\n",
       "      <th></th>\n",
       "      <th>text_a</th>\n",
       "      <th>text_b</th>\n",
       "    </tr>\n",
       "  </thead>\n",
       "  <tbody>\n",
       "    <tr>\n",
       "      <th>0</th>\n",
       "      <td>exclusive apple to unveil the long awaited ret...</td>\n",
       "      <td>last week apple sent out the invites for its s...</td>\n",
       "    </tr>\n",
       "    <tr>\n",
       "      <th>1</th>\n",
       "      <td>found missing afghan soldiers spotted trying t...</td>\n",
       "      <td>the three afghanistan national army officers w...</td>\n",
       "    </tr>\n",
       "    <tr>\n",
       "      <th>2</th>\n",
       "      <td>report three missing afghan soldiers caught at...</td>\n",
       "      <td>toronto three missing afghan soldiers were tak...</td>\n",
       "    </tr>\n",
       "    <tr>\n",
       "      <th>3</th>\n",
       "      <td>3 boobed woman a fake</td>\n",
       "      <td>did a woman claiming to have a third breast pl...</td>\n",
       "    </tr>\n",
       "    <tr>\n",
       "      <th>4</th>\n",
       "      <td>isis might be harvesting organs iraqi ambassad...</td>\n",
       "      <td>isis is using blood money from harvesting orga...</td>\n",
       "    </tr>\n",
       "    <tr>\n",
       "      <th>...</th>\n",
       "      <td>...</td>\n",
       "      <td>...</td>\n",
       "    </tr>\n",
       "    <tr>\n",
       "      <th>7059</th>\n",
       "      <td>the success of the affordable care act is a hu...</td>\n",
       "      <td>congressional republicans evidently hoping tha...</td>\n",
       "    </tr>\n",
       "    <tr>\n",
       "      <th>7060</th>\n",
       "      <td>the success of the affordable care act is a hu...</td>\n",
       "      <td>did obamacare work it s worth reflecting upon ...</td>\n",
       "    </tr>\n",
       "    <tr>\n",
       "      <th>7061</th>\n",
       "      <td>the success of the affordable care act is a hu...</td>\n",
       "      <td>millions may lose coverage next year if congre...</td>\n",
       "    </tr>\n",
       "    <tr>\n",
       "      <th>7062</th>\n",
       "      <td>the success of the affordable care act is a hu...</td>\n",
       "      <td>come november the grim trudge across the incre...</td>\n",
       "    </tr>\n",
       "    <tr>\n",
       "      <th>7063</th>\n",
       "      <td>the success of the affordable care act is a hu...</td>\n",
       "      <td>remember how much republicans wanted to repeal...</td>\n",
       "    </tr>\n",
       "  </tbody>\n",
       "</table>\n",
       "<p>7064 rows × 2 columns</p>\n",
       "</div>"
      ],
      "text/plain": [
       "                                                 text_a  \\\n",
       "0     exclusive apple to unveil the long awaited ret...   \n",
       "1     found missing afghan soldiers spotted trying t...   \n",
       "2     report three missing afghan soldiers caught at...   \n",
       "3                                 3 boobed woman a fake   \n",
       "4     isis might be harvesting organs iraqi ambassad...   \n",
       "...                                                 ...   \n",
       "7059  the success of the affordable care act is a hu...   \n",
       "7060  the success of the affordable care act is a hu...   \n",
       "7061  the success of the affordable care act is a hu...   \n",
       "7062  the success of the affordable care act is a hu...   \n",
       "7063  the success of the affordable care act is a hu...   \n",
       "\n",
       "                                                 text_b  \n",
       "0     last week apple sent out the invites for its s...  \n",
       "1     the three afghanistan national army officers w...  \n",
       "2     toronto three missing afghan soldiers were tak...  \n",
       "3     did a woman claiming to have a third breast pl...  \n",
       "4     isis is using blood money from harvesting orga...  \n",
       "...                                                 ...  \n",
       "7059  congressional republicans evidently hoping tha...  \n",
       "7060  did obamacare work it s worth reflecting upon ...  \n",
       "7061  millions may lose coverage next year if congre...  \n",
       "7062  come november the grim trudge across the incre...  \n",
       "7063  remember how much republicans wanted to repeal...  \n",
       "\n",
       "[7064 rows x 2 columns]"
      ]
     },
     "execution_count": 17,
     "metadata": {},
     "output_type": "execute_result"
    }
   ],
   "source": [
    "true_test_opinion_df"
   ]
  },
  {
   "cell_type": "code",
   "execution_count": 18,
   "metadata": {},
   "outputs": [
    {
     "name": "stdout",
     "output_type": "stream",
     "text": [
      "<class 'pandas.core.frame.DataFrame'>\n",
      "RangeIndex: 7064 entries, 0 to 7063\n",
      "Data columns (total 2 columns):\n",
      " #   Column  Non-Null Count  Dtype \n",
      "---  ------  --------------  ----- \n",
      " 0   text_a  7064 non-null   object\n",
      " 1   text_b  7064 non-null   object\n",
      "dtypes: object(2)\n",
      "memory usage: 110.5+ KB\n",
      "<class 'pandas.core.series.Series'>\n",
      "RangeIndex: 7064 entries, 0 to 7063\n",
      "Series name: Stance\n",
      "Non-Null Count  Dtype\n",
      "--------------  -----\n",
      "7064 non-null   int64\n",
      "dtypes: int64(1)\n",
      "memory usage: 55.3 KB\n"
     ]
    }
   ],
   "source": [
    "true_test_opinion_df.info()\n",
    "true_test_opinion_labels.info()"
   ]
  },
  {
   "cell_type": "code",
   "execution_count": 19,
   "metadata": {},
   "outputs": [],
   "source": [
    "true_test_opinion_dl=[]\n",
    "for i in range(len(true_test_opinion_df)):\n",
    "  true_test_opinion_dl.append([true_test_opinion_df['text_a'][i], true_test_opinion_df['text_b'][i]])"
   ]
  },
  {
   "cell_type": "code",
   "execution_count": 20,
   "metadata": {},
   "outputs": [],
   "source": [
    "from simpletransformers.classification import ClassificationModel"
   ]
  },
  {
   "cell_type": "markdown",
   "metadata": {},
   "source": [
    "### Training Relatedness Model (releated/unrelated)"
   ]
  },
  {
   "cell_type": "code",
   "execution_count": 21,
   "metadata": {},
   "outputs": [
    {
     "name": "stderr",
     "output_type": "stream",
     "text": [
      "Some weights of the model checkpoint at bert-base-cased were not used when initializing BertForSequenceClassification: ['cls.predictions.transform.LayerNorm.bias', 'cls.predictions.transform.dense.bias', 'cls.predictions.transform.dense.weight', 'cls.predictions.decoder.weight', 'cls.seq_relationship.bias', 'cls.seq_relationship.weight', 'cls.predictions.bias', 'cls.predictions.transform.LayerNorm.weight']\n",
      "- This IS expected if you are initializing BertForSequenceClassification from the checkpoint of a model trained on another task or with another architecture (e.g. initializing a BertForSequenceClassification model from a BertForPreTraining model).\n",
      "- This IS NOT expected if you are initializing BertForSequenceClassification from the checkpoint of a model that you expect to be exactly identical (initializing a BertForSequenceClassification model from a BertForSequenceClassification model).\n",
      "Some weights of BertForSequenceClassification were not initialized from the model checkpoint at bert-base-cased and are newly initialized: ['classifier.bias', 'classifier.weight']\n",
      "You should probably TRAIN this model on a down-stream task to be able to use it for predictions and inference.\n"
     ]
    }
   ],
   "source": [
    "relatedness_model = ClassificationModel(\n",
    "    'bert', 'bert-base-cased', \n",
    "    num_labels=2, \n",
    "    args={\n",
    "        'num_train_epochs': num_train_epochs,\n",
    "        'manual_seed': manual_seed,\n",
    "        'max_seq_length': 256,\n",
    "        'output_dir': \"outputs/bert_relatedness\",\n",
    "        'overwrite_output_dir': True,\n",
    "        'save_steps': -1,\n",
    "        'early_stopping': True},\n",
    "    use_cuda=True)"
   ]
  },
  {
   "cell_type": "code",
   "execution_count": 22,
   "metadata": {},
   "outputs": [],
   "source": [
    "#relatedness_model.train_model(train_df_relatedness)\n",
    "relatedness_model = ClassificationModel(\"bert\", \"outputs/bert_relatedness/checkpoint-18741-epoch-3\")"
   ]
  },
  {
   "cell_type": "code",
   "execution_count": 23,
   "metadata": {},
   "outputs": [
    {
     "data": {
      "application/vnd.jupyter.widget-view+json": {
       "model_id": "e12581e3f654413bb7a7bea50432b621",
       "version_major": 2,
       "version_minor": 0
      },
      "text/plain": [
       "  0%|          | 0/25413 [00:00<?, ?it/s]"
      ]
     },
     "metadata": {},
     "output_type": "display_data"
    },
    {
     "data": {
      "application/vnd.jupyter.widget-view+json": {
       "model_id": "76a24f02f0044dc59b3ecf4a483565e4",
       "version_major": 2,
       "version_minor": 0
      },
      "text/plain": [
       "  0%|          | 0/3177 [00:00<?, ?it/s]"
      ]
     },
     "metadata": {},
     "output_type": "display_data"
    },
    {
     "name": "stdout",
     "output_type": "stream",
     "text": [
      " The relatedness accuracy of relatedness model is 0.982922126470704\n"
     ]
    }
   ],
   "source": [
    "preds , _ = relatedness_model.predict(test_dl)\n",
    "acc = accuracy_score(true_test_relatedness_labels, preds)\n",
    "print(f\" The relatedness accuracy of relatedness model is {acc}\")"
   ]
  },
  {
   "cell_type": "markdown",
   "metadata": {},
   "source": [
    "### Training Opinion Model"
   ]
  },
  {
   "cell_type": "code",
   "execution_count": 24,
   "metadata": {},
   "outputs": [
    {
     "name": "stderr",
     "output_type": "stream",
     "text": [
      "Some weights of the model checkpoint at bert-base-cased were not used when initializing BertForSequenceClassification: ['cls.predictions.transform.LayerNorm.bias', 'cls.predictions.transform.dense.bias', 'cls.predictions.transform.dense.weight', 'cls.predictions.decoder.weight', 'cls.seq_relationship.bias', 'cls.seq_relationship.weight', 'cls.predictions.bias', 'cls.predictions.transform.LayerNorm.weight']\n",
      "- This IS expected if you are initializing BertForSequenceClassification from the checkpoint of a model trained on another task or with another architecture (e.g. initializing a BertForSequenceClassification model from a BertForPreTraining model).\n",
      "- This IS NOT expected if you are initializing BertForSequenceClassification from the checkpoint of a model that you expect to be exactly identical (initializing a BertForSequenceClassification model from a BertForSequenceClassification model).\n",
      "Some weights of BertForSequenceClassification were not initialized from the model checkpoint at bert-base-cased and are newly initialized: ['classifier.bias', 'classifier.weight']\n",
      "You should probably TRAIN this model on a down-stream task to be able to use it for predictions and inference.\n"
     ]
    }
   ],
   "source": [
    "opinion_model = ClassificationModel(\n",
    "    'bert', 'bert-base-cased', \n",
    "    num_labels=3, \n",
    "    args={\n",
    "        'num_train_epochs': 2*num_train_epochs,\n",
    "        'manual_seed': manual_seed,\n",
    "        'max_seq_length': 256,\n",
    "        'output_dir': \"outputs/bert_opinion\",\n",
    "        'overwrite_output_dir': True,\n",
    "        'early_stopping': True},\n",
    "    use_cuda=True)"
   ]
  },
  {
   "cell_type": "code",
   "execution_count": 27,
   "metadata": {},
   "outputs": [],
   "source": [
    "#opinion_model.train_model(train_df_opinion)\n",
    "\n",
    "#Best performance model is selected.\n",
    "opinion_model = ClassificationModel(\"bert\", \"outputs/bert_opinion/checkpoint-3358-epoch-2\")"
   ]
  },
  {
   "cell_type": "code",
   "execution_count": 29,
   "metadata": {},
   "outputs": [
    {
     "data": {
      "application/vnd.jupyter.widget-view+json": {
       "model_id": "8389abffdff1469b8c9b49d71f93265a",
       "version_major": 2,
       "version_minor": 0
      },
      "text/plain": [
       "  0%|          | 0/7064 [00:00<?, ?it/s]"
      ]
     },
     "metadata": {},
     "output_type": "display_data"
    },
    {
     "data": {
      "application/vnd.jupyter.widget-view+json": {
       "model_id": "9aba23a80bd041138e3a92233ec631ee",
       "version_major": 2,
       "version_minor": 0
      },
      "text/plain": [
       "  0%|          | 0/883 [00:00<?, ?it/s]"
      ]
     },
     "metadata": {},
     "output_type": "display_data"
    },
    {
     "name": "stdout",
     "output_type": "stream",
     "text": [
      " The relatedness accuracy of relatedness model is 0.7628822197055493\n"
     ]
    }
   ],
   "source": [
    "preds , _ = opinion_model.predict(true_test_opinion_dl)\n",
    "acc = accuracy_score(true_test_opinion_labels, preds)\n",
    "print(f\" The Opinion accuracy of relatedness model is {acc}\")"
   ]
  },
  {
   "cell_type": "code",
   "execution_count": 30,
   "metadata": {},
   "outputs": [],
   "source": [
    "class cacased_model:\n",
    "    def __init__(self, relatedness_model, opinion_model):\n",
    "        self.relatedness_model = relatedness_model\n",
    "        self.opinion_model = opinion_model\n",
    "\n",
    "    def predict(self, test_dl):\n",
    "        related_preds , _ = relatedness_model.predict(test_dl)\n",
    "        # map unrelated labels to 3\n",
    "        # stance_to_relatedness = {0:0 , 1:0, 2:0, 3:1}\n",
    "        opinion_test_dl = []\n",
    "        opinion_idxs=[]\n",
    "        preds = copy.deepcopy(related_preds)\n",
    "        for i in range(len(related_preds)):\n",
    "            if preds[i] == 1:\n",
    "                preds[i] = 3\n",
    "            else:\n",
    "                opinion_test_dl.append(test_dl[i])\n",
    "                opinion_idxs.append(i)\n",
    "\n",
    "        opinion_preds , _ = opinion_model.predict(opinion_test_dl)\n",
    "\n",
    "        for i in range(len(opinion_idxs)):\n",
    "            preds[opinion_idxs[i]] = opinion_preds[i]\n",
    "\n",
    "        return preds\n",
    "\n",
    "        \n"
   ]
  },
  {
   "cell_type": "code",
   "execution_count": 31,
   "metadata": {},
   "outputs": [],
   "source": [
    "cacased_model = cacased_model(relatedness_model, opinion_model)"
   ]
  },
  {
   "cell_type": "code",
   "execution_count": 32,
   "metadata": {},
   "outputs": [
    {
     "data": {
      "application/vnd.jupyter.widget-view+json": {
       "model_id": "233831496493442cb311e387ce13e245",
       "version_major": 2,
       "version_minor": 0
      },
      "text/plain": [
       "  0%|          | 0/25413 [00:00<?, ?it/s]"
      ]
     },
     "metadata": {},
     "output_type": "display_data"
    },
    {
     "data": {
      "application/vnd.jupyter.widget-view+json": {
       "model_id": "954682ce341c4d46adcc46bcfce1ffec",
       "version_major": 2,
       "version_minor": 0
      },
      "text/plain": [
       "  0%|          | 0/3177 [00:00<?, ?it/s]"
      ]
     },
     "metadata": {},
     "output_type": "display_data"
    },
    {
     "data": {
      "application/vnd.jupyter.widget-view+json": {
       "model_id": "3f8edd44915c43baa720c234a2f0f908",
       "version_major": 2,
       "version_minor": 0
      },
      "text/plain": [
       "  0%|          | 0/6940 [00:00<?, ?it/s]"
      ]
     },
     "metadata": {},
     "output_type": "display_data"
    },
    {
     "data": {
      "application/vnd.jupyter.widget-view+json": {
       "model_id": "aaccde4c9f954c80b46a7c2fc333e300",
       "version_major": 2,
       "version_minor": 0
      },
      "text/plain": [
       "  0%|          | 0/868 [00:00<?, ?it/s]"
      ]
     },
     "metadata": {},
     "output_type": "display_data"
    }
   ],
   "source": [
    "preds = cacased_model.predict(test_dl)\n"
   ]
  },
  {
   "cell_type": "code",
   "execution_count": 33,
   "metadata": {},
   "outputs": [
    {
     "data": {
      "text/plain": [
       "25413"
      ]
     },
     "execution_count": 33,
     "metadata": {},
     "output_type": "execute_result"
    }
   ],
   "source": [
    "len(preds)"
   ]
  },
  {
   "cell_type": "code",
   "execution_count": 36,
   "metadata": {},
   "outputs": [],
   "source": [
    "outputs = [int_to_stance[int(p)] for p in preds]"
   ]
  },
  {
   "cell_type": "code",
   "execution_count": 37,
   "metadata": {},
   "outputs": [
    {
     "name": "stdout",
     "output_type": "stream",
     "text": [
      "-------------------------------------------------------------\n",
      "|           |   agree   | disagree  |  discuss  | unrelated |\n",
      "-------------------------------------------------------------\n",
      "|   agree   |   1374    |    55     |    410    |    64     |\n",
      "-------------------------------------------------------------\n",
      "| disagree  |    184    |    282    |    170    |    61     |\n",
      "-------------------------------------------------------------\n",
      "|  discuss  |    609    |    157    |   3544    |    154    |\n",
      "-------------------------------------------------------------\n",
      "| unrelated |    22     |     8     |    125    |   18194   |\n",
      "-------------------------------------------------------------\n",
      "Score: 10144.75 out of 11651.25\t(87.07005686085184%)\n"
     ]
    },
    {
     "data": {
      "text/plain": [
       "87.07005686085184"
      ]
     },
     "execution_count": 37,
     "metadata": {},
     "output_type": "execute_result"
    }
   ],
   "source": [
    "report_score(true_test, outputs)"
   ]
  },
  {
   "cell_type": "code",
   "execution_count": 38,
   "metadata": {},
   "outputs": [
    {
     "name": "stdout",
     "output_type": "stream",
     "text": [
      "Relatedness Accuracy is 0.982922126470704\n",
      "Opinion Accuracy is 0.7361268403171007\n"
     ]
    }
   ],
   "source": [
    "true_test_labels = true_test.apply(lambda x: stance_to_int[x])\n",
    "\n",
    "relatedness_correct = 0\n",
    "opinion_correct = 0\n",
    "opinion_count = 0\n",
    "\n",
    "for i in range(len(true_test_labels)):\n",
    "    label = true_test_labels[i]\n",
    "    pred = preds[i]\n",
    "    if (label == 3 and pred == 3) or (label != 3 and pred != 3):\n",
    "        relatedness_correct+=1\n",
    "    if label != 3:\n",
    "        opinion_count+=1\n",
    "        if label == pred:\n",
    "            opinion_correct += 1\n",
    "\n",
    "\n",
    "print(f\"Relatedness Accuracy is {relatedness_correct/len(true_test_labels)}\")\n",
    "print(f\"Opinion Accuracy is {opinion_correct/opinion_count}\")\n"
   ]
  }
 ],
 "metadata": {
  "interpreter": {
   "hash": "9e8c2f1beb2e40a9a38baaa548f28e428769bf26bad7d7d25cc139235a548e0b"
  },
  "kernelspec": {
   "display_name": "Python 3.9.12 ('keras')",
   "language": "python",
   "name": "python3"
  },
  "language_info": {
   "codemirror_mode": {
    "name": "ipython",
    "version": 3
   },
   "file_extension": ".py",
   "mimetype": "text/x-python",
   "name": "python",
   "nbconvert_exporter": "python",
   "pygments_lexer": "ipython3",
   "version": "3.9.12"
  },
  "orig_nbformat": 4
 },
 "nbformat": 4,
 "nbformat_minor": 2
}
